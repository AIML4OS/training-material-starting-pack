{
  "cells": [
    {
      "cell_type": "markdown",
      "metadata": {},
      "source": [
        "# Hello SSPCloud\n",
        "\n",
        "Lino Galiana"
      ],
      "id": "dc810caf-d9c2-4db8-a861-93a385a3b79e"
    }
  ],
  "nbformat": 4,
  "nbformat_minor": 5,
  "metadata": {
    "kernelspec": {
      "display_name": "Python 3",
      "language": "python",
      "name": "python3"
    }
  }
}