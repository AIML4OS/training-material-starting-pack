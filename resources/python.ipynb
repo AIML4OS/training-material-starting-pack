{
  "cells": [
    {
      "cell_type": "markdown",
      "metadata": {},
      "source": [
        "# Hello SSPCloud\n",
        "\n",
        "Lino Galiana\n",
        "\n",
        "`Jupyter` notebooks[1] offer an interactive interface that allows you to\n",
        "write `Python` code, test it, and see the result below the instruction\n",
        "rather than in a separate console. `Jupyter` notebooks are essential in\n",
        "the fields of data science and education and research because they\n",
        "greatly simplify exploration and experimentation.\n",
        "\n",
        "They allow you to combine text in `Markdown` format (a lighter markup\n",
        "text format than `HTML` or $\\LaTeX$), `Python` code, and `HTML` code for\n",
        "visualizations and animations in a single document.\n",
        "\n",
        "<figure>\n",
        "<img src=\"https://python.sdv.u-paris.fr/img/jupyter-exemple.png\"\n",
        "alt=\"Illustration of a Jupyter notebook concept. Source: Python Course for Life Sciences (Paris 18) by Patrick Fuchs and Pierre Poulain\" />\n",
        "<figcaption aria-hidden=\"true\">Illustration of a Jupyter notebook\n",
        "concept. Source: <a href=\"https://python.sdv.u-paris.fr/\">Python Course\n",
        "for Life Sciences (Paris 18) by Patrick Fuchs and Pierre\n",
        "Poulain</a></figcaption>\n",
        "</figure>\n",
        "\n",
        "Initially, `Jupyter` was the only software offering these interactive\n",
        "features. Now, there are other ways to benefit from notebook advantages\n",
        "while having an IDE with more comprehensive features than `Jupyter`. For\n",
        "this reason, as of 2024, it is more practical to use\n",
        "`VSCode`\\[^vscode-python\\], a general-purpose code editor but offering\n",
        "excellent features in `Python`, than `Jupyter`. For more information on\n",
        "using notebooks in VSCode, refer to the [official\n",
        "documentation](https://code.visualstudio.com/docs/datascience/jupyter-notebooks).\n",
        "\n",
        "`Jupyter` gives access to interactive tutorials\n",
        "\n",
        "[1] `Jupyter` originated from the `IPython` project, an interactive\n",
        "environment for `Python` developed by Fernando Pérez in 2001. In 2014,\n",
        "the project evolved to support other programming languages in addition\n",
        "to Python, leading to the creation of the Jupyter project. The name\n",
        "“Jupyter” is an acronym referring to the three main languages it\n",
        "supports: `Julia`, `Python`, and `R`. `Jupyter` notebooks are crucial in\n",
        "the fields of data science and education and research because they\n",
        "greatly simplify exploration and experimentation."
      ],
      "id": "750033e5-4370-4ae4-8da3-2391f9d1eb01"
    },
    {
      "cell_type": "code",
      "execution_count": 1,
      "metadata": {},
      "outputs": [
        {
          "output_type": "display_data",
          "metadata": {},
          "data": {
            "text/html": [
              "\n",
              "</div>"
            ]
          }
        }
      ],
      "source": [
        "import pandas as pd\n",
        "df = pd.read_csv(\"https://koumoul.com/s/data-fair/api/v1/datasets/igt-pouvoir-de-rechauffement-global/convert\")\n",
        "df.head(2)"
      ],
      "id": "08804051"
    }
  ],
  "nbformat": 4,
  "nbformat_minor": 5,
  "metadata": {
    "kernelspec": {
      "name": "python3",
      "display_name": "Python 3 (ipykernel)",
      "language": "python",
      "path": "/opt/hostedtoolcache/Python/3.10.15/x64/share/jupyter/kernels/python3"
    },
    "language_info": {
      "name": "python",
      "codemirror_mode": {
        "name": "ipython",
        "version": "3"
      },
      "file_extension": ".py",
      "mimetype": "text/x-python",
      "nbconvert_exporter": "python",
      "pygments_lexer": "ipython3",
      "version": "3.10.15"
    }
  }
}