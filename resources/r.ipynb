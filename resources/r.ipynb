{
  "cells": [
    {
      "cell_type": "markdown",
      "metadata": {},
      "source": [
        "# Hello SSPCloud\n",
        "\n",
        "Lino Galiana\n",
        "\n",
        "\\`"
      ],
      "id": "66588691-1916-41bb-a7e9-ca8ffc9f829a"
    }
  ],
  "nbformat": 4,
  "nbformat_minor": 5,
  "metadata": {
    "kernelspec": {
      "display_name": "Python 3",
      "language": "python",
      "name": "python3"
    }
  }
}