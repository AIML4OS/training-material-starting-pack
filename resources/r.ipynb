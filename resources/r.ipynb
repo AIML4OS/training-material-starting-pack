{
  "cells": [
    {
      "cell_type": "markdown",
      "metadata": {},
      "source": [
        "# Hello SSPCloud\n",
        "\n",
        "Lino Galiana"
      ],
      "id": "a26160e2-d107-4c8d-ac1e-904d9db1e625"
    }
  ],
  "nbformat": 4,
  "nbformat_minor": 5,
  "metadata": {
    "kernelspec": {
      "display_name": "Python 3",
      "language": "python",
      "name": "python3"
    }
  }
}