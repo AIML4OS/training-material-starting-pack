{
  "cells": [
    {
      "cell_type": "markdown",
      "metadata": {},
      "source": [
        "# Hello SSPCloud\n",
        "\n",
        "Lino Galiana"
      ],
      "id": "bb15a1b6-e5c0-4520-8a6b-90af7a1a0c95"
    }
  ],
  "nbformat": 4,
  "nbformat_minor": 5,
  "metadata": {
    "kernelspec": {
      "display_name": "Python 3",
      "language": "python",
      "name": "python3"
    }
  }
}