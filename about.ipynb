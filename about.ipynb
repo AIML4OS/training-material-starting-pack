{
  "cells": [
    {
      "cell_type": "markdown",
      "metadata": {},
      "source": [
        "# About\n",
        "\n",
        "Lino Galiana\n",
        "\n",
        "About this site"
      ],
      "id": "5bf2eb65-3be9-45eb-a382-e811e45c38c1"
    }
  ],
  "nbformat": 4,
  "nbformat_minor": 5,
  "metadata": {
    "kernelspec": {
      "display_name": "Python 3",
      "language": "python",
      "name": "python3"
    }
  }
}