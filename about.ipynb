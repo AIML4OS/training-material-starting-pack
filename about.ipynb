{
  "cells": [
    {
      "cell_type": "markdown",
      "metadata": {},
      "source": [
        "# About\n",
        "\n",
        "Lino Galiana\n",
        "\n",
        "About this site"
      ],
      "id": "358a2ec8-d8e3-4631-8904-a87a3138835c"
    }
  ],
  "nbformat": 4,
  "nbformat_minor": 5,
  "metadata": {
    "kernelspec": {
      "display_name": "Python 3",
      "language": "python",
      "name": "python3"
    }
  }
}