{
  "cells": [
    {
      "cell_type": "markdown",
      "metadata": {},
      "source": [
        "# Hello SSPCloud\n",
        "\n",
        "Lino Galiana\n",
        "\n",
        "\\`"
      ],
      "id": "bb7ff457-2a2f-4ba9-b3ad-936c05d3965c"
    }
  ],
  "nbformat": 4,
  "nbformat_minor": 5,
  "metadata": {
    "kernelspec": {
      "display_name": "Python 3",
      "language": "python",
      "name": "python3"
    }
  }
}