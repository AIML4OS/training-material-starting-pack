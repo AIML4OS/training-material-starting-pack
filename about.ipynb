{
  "cells": [
    {
      "cell_type": "markdown",
      "metadata": {},
      "source": [
        "# About\n",
        "\n",
        "Lino Galiana\n",
        "\n",
        "About this site"
      ],
      "id": "9048a2bf-ff97-4db2-a833-af20d7ff576b"
    }
  ],
  "nbformat": 4,
  "nbformat_minor": 5,
  "metadata": {
    "kernelspec": {
      "display_name": "Python 3",
      "language": "python",
      "name": "python3"
    }
  }
}